{
 "cells": [
  {
   "cell_type": "code",
   "execution_count": 1,
   "id": "3d975e5c-f59a-4b0f-a271-756d03f6ccce",
   "metadata": {
    "execution": {
     "iopub.execute_input": "2024-07-16T22:51:00.757646Z",
     "iopub.status.busy": "2024-07-16T22:51:00.757087Z",
     "iopub.status.idle": "2024-07-16T22:51:22.138367Z",
     "shell.execute_reply": "2024-07-16T22:51:22.135908Z",
     "shell.execute_reply.started": "2024-07-16T22:51:00.757588Z"
    },
    "tags": []
   },
   "outputs": [],
   "source": [
    "import seaduck as sd\n",
    "import numpy as np\n",
    "import lmdb\n",
    "import dask.array as da\n",
    "\n",
    "import oceanspy as ospy\n",
    "from precalc.gen_interp import store_interpolator\n",
    "from precalc.grid_subsample import generate_subocedata"
   ]
  },
  {
   "cell_type": "code",
   "execution_count": 2,
   "id": "3387dc39-c95e-4136-bfcb-925c0967dd37",
   "metadata": {
    "execution": {
     "iopub.execute_input": "2024-07-16T22:51:22.142978Z",
     "iopub.status.busy": "2024-07-16T22:51:22.141550Z",
     "iopub.status.idle": "2024-07-16T22:51:36.189085Z",
     "shell.execute_reply": "2024-07-16T22:51:36.186947Z",
     "shell.execute_reply.started": "2024-07-16T22:51:22.142913Z"
    },
    "tags": []
   },
   "outputs": [
    {
     "name": "stdout",
     "output_type": "stream",
     "text": [
      "Opening LLC4320.\n",
      "10 day hourly data from the LLC4320 simulations computed using the MITGCM, a general, curvilinear ocean simulation on the cube-sphere.\n"
     ]
    }
   ],
   "source": [
    "# llc = ospy.open_oceandataset.from_catalog('ECCO')._ds\n",
    "llc = ospy.open_oceandataset.from_catalog('LLC4320')._ds"
   ]
  },
  {
   "cell_type": "code",
   "execution_count": 3,
   "id": "088192fb-aa43-4c64-8b2c-77b4183484ed",
   "metadata": {
    "execution": {
     "iopub.execute_input": "2024-07-16T22:51:36.199524Z",
     "iopub.status.busy": "2024-07-16T22:51:36.198788Z",
     "iopub.status.idle": "2024-07-16T23:01:45.826600Z",
     "shell.execute_reply": "2024-07-16T23:01:45.824168Z",
     "shell.execute_reply.started": "2024-07-16T22:51:36.199443Z"
    }
   },
   "outputs": [
    {
     "name": "stderr",
     "output_type": "stream",
     "text": [
      "WARNING:root:Loading grid into memory, it's a large dataset please be patient\n"
     ]
    }
   ],
   "source": [
    "oce = sd.OceData(llc)\n",
    "oce['dXG'] = np.array(oce['dXG'])\n",
    "oce['dYG'] = np.array(oce['dYG'])"
   ]
  },
  {
   "cell_type": "code",
   "execution_count": 4,
   "id": "dcfed387-2193-4635-8076-c03225e2ab23",
   "metadata": {
    "execution": {
     "iopub.execute_input": "2024-07-16T23:01:45.831144Z",
     "iopub.status.busy": "2024-07-16T23:01:45.830334Z",
     "iopub.status.idle": "2024-07-16T23:01:45.856004Z",
     "shell.execute_reply": "2024-07-16T23:01:45.853907Z",
     "shell.execute_reply.started": "2024-07-16T23:01:45.831080Z"
    },
    "tags": []
   },
   "outputs": [],
   "source": [
    "zooms = np.arange(7)\n",
    "\n",
    "lmdb_path = '/home/idies/workspace/Temporary/wenrui/scratch/second_interpolator.lmdb'\n",
    "env = lmdb.open(lmdb_path, readonly=False, lock=False, map_size=200000000000)"
   ]
  },
  {
   "cell_type": "code",
   "execution_count": 5,
   "id": "30233c93-522b-47d7-a794-fe2f0cf62fe3",
   "metadata": {
    "execution": {
     "iopub.execute_input": "2024-07-16T23:01:45.859026Z",
     "iopub.status.busy": "2024-07-16T23:01:45.858385Z",
     "iopub.status.idle": "2024-07-16T23:06:43.096551Z",
     "shell.execute_reply": "2024-07-16T23:06:43.094089Z",
     "shell.execute_reply.started": "2024-07-16T23:01:45.858966Z"
    },
    "tags": []
   },
   "outputs": [
    {
     "name": "stdout",
     "output_type": "stream",
     "text": [
      "Creating subset of the sd.OceData object with grain size 1\n",
      "Creating subset of the sd.OceData object with grain size 2\n"
     ]
    },
    {
     "name": "stderr",
     "output_type": "stream",
     "text": [
      "WARNING:root:Loading grid into memory, it's a large dataset please be patient\n"
     ]
    },
    {
     "name": "stdout",
     "output_type": "stream",
     "text": [
      "Creating subset of the sd.OceData object with grain size 4\n"
     ]
    },
    {
     "name": "stderr",
     "output_type": "stream",
     "text": [
      "WARNING:root:Loading grid into memory, it's a large dataset please be patient\n"
     ]
    },
    {
     "name": "stdout",
     "output_type": "stream",
     "text": [
      "Creating subset of the sd.OceData object with grain size 8\n"
     ]
    },
    {
     "name": "stderr",
     "output_type": "stream",
     "text": [
      "WARNING:root:Loading grid into memory, it's a large dataset please be patient\n"
     ]
    },
    {
     "name": "stdout",
     "output_type": "stream",
     "text": [
      "Creating subset of the sd.OceData object with grain size 15\n",
      "Creating subset of the sd.OceData object with grain size 30\n",
      "Creating subset of the sd.OceData object with grain size 60\n"
     ]
    }
   ],
   "source": [
    "subocedata,unique_grain,inverse_grain = generate_subocedata(zooms,oce)"
   ]
  },
  {
   "cell_type": "code",
   "execution_count": 6,
   "id": "2faac209-5868-4301-a66c-d11bc188b38d",
   "metadata": {
    "execution": {
     "iopub.execute_input": "2024-07-16T23:06:43.101236Z",
     "iopub.status.busy": "2024-07-16T23:06:43.099947Z",
     "iopub.status.idle": "2024-07-16T23:07:11.044320Z",
     "shell.execute_reply": "2024-07-16T23:07:11.042257Z",
     "shell.execute_reply.started": "2024-07-16T23:06:43.101163Z"
    },
    "tags": []
   },
   "outputs": [],
   "source": [
    "# s = np.array(llc['SALT'][0,0])\n",
    "# uv = np.array(da.concatenate([llc.UVELMASS[0,0].data[np.newaxis],llc.VVELMASS[0,0].data[np.newaxis]],axis = 0))\n",
    "s = np.array(llc['S'][0,0])\n",
    "uv = np.array(da.concatenate([llc.U[0,0].data[np.newaxis],llc.V[0,0].data[np.newaxis]],axis = 0))"
   ]
  },
  {
   "cell_type": "code",
   "execution_count": null,
   "id": "fdf1b550-f1b9-4191-a780-6951f4ec59de",
   "metadata": {
    "execution": {
     "iopub.execute_input": "2024-07-16T23:07:11.047980Z",
     "iopub.status.busy": "2024-07-16T23:07:11.047329Z"
    },
    "tags": []
   },
   "outputs": [
    {
     "name": "stdout",
     "output_type": "stream",
     "text": [
      "0\n"
     ]
    },
    {
     "name": "stderr",
     "output_type": "stream",
     "text": [
      "WARNING:root:Some points are on the edge\n",
      "WARNING:root:Some points are on the edge\n"
     ]
    },
    {
     "name": "stdout",
     "output_type": "stream",
     "text": [
      "1\n"
     ]
    },
    {
     "name": "stderr",
     "output_type": "stream",
     "text": [
      "WARNING:root:Some points are on the edge\n",
      "WARNING:root:Some points are on the edge\n"
     ]
    },
    {
     "name": "stdout",
     "output_type": "stream",
     "text": [
      "2\n"
     ]
    },
    {
     "name": "stderr",
     "output_type": "stream",
     "text": [
      "WARNING:root:Some points are on the edge\n",
      "WARNING:root:Some points are on the edge\n"
     ]
    },
    {
     "name": "stdout",
     "output_type": "stream",
     "text": [
      "3\n"
     ]
    },
    {
     "name": "stderr",
     "output_type": "stream",
     "text": [
      "WARNING:root:Some points are on the edge\n",
      "WARNING:root:Some points are on the edge\n"
     ]
    },
    {
     "name": "stdout",
     "output_type": "stream",
     "text": [
      "4\n"
     ]
    },
    {
     "name": "stderr",
     "output_type": "stream",
     "text": [
      "WARNING:root:Some points are on the edge\n",
      "WARNING:root:Some points are on the edge\n",
      "WARNING:root:Some points are on the edge\n",
      "WARNING:root:Some points are on the edge\n"
     ]
    },
    {
     "name": "stdout",
     "output_type": "stream",
     "text": [
      "5\n"
     ]
    },
    {
     "name": "stderr",
     "output_type": "stream",
     "text": [
      "WARNING:root:Some points are on the edge\n",
      "WARNING:root:Some points are on the edge\n",
      "WARNING:root:Some points are on the edge\n",
      "WARNING:root:Some points are on the edge\n",
      "WARNING:root:Some points are on the edge\n",
      "WARNING:root:Some points are on the edge\n",
      "WARNING:root:Some points are on the edge\n",
      "WARNING:root:Some points are on the edge\n"
     ]
    },
    {
     "name": "stdout",
     "output_type": "stream",
     "text": [
      "6\n"
     ]
    },
    {
     "name": "stderr",
     "output_type": "stream",
     "text": [
      "WARNING:root:Some points are on the edge\n",
      "WARNING:root:Some points are on the edge\n",
      "WARNING:root:Some points are on the edge\n",
      "WARNING:root:Some points are on the edge\n",
      "WARNING:root:Some points are on the edge\n",
      "WARNING:root:Some points are on the edge\n",
      "WARNING:root:Some points are on the edge\n",
      "WARNING:root:Some points are on the edge\n",
      "WARNING:root:Some points are on the edge\n",
      "WARNING:root:Some points are on the edge\n",
      "WARNING:root:Some points are on the edge\n",
      "WARNING:root:Some points are on the edge\n",
      "WARNING:root:Some points are on the edge\n",
      "WARNING:root:Some points are on the edge\n"
     ]
    }
   ],
   "source": [
    "store_interpolator(env,zooms,subocedata,unique_grain,inverse_grain,exmp_vel = uv,exmp_scl = s)"
   ]
  },
  {
   "cell_type": "code",
   "execution_count": null,
   "id": "18d8eca2-e85f-44e7-bb9f-c7d7e28be10b",
   "metadata": {},
   "outputs": [],
   "source": []
  }
 ],
 "metadata": {
  "kernelspec": {
   "display_name": "Oceanography",
   "language": "python",
   "name": "oceanography"
  },
  "language_info": {
   "codemirror_mode": {
    "name": "ipython",
    "version": 3
   },
   "file_extension": ".py",
   "mimetype": "text/x-python",
   "name": "python",
   "nbconvert_exporter": "python",
   "pygments_lexer": "ipython3",
   "version": "3.10.12"
  }
 },
 "nbformat": 4,
 "nbformat_minor": 5
}

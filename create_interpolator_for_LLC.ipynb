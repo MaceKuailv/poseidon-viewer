{
 "cells": [
  {
   "cell_type": "code",
   "execution_count": null,
   "id": "3d975e5c-f59a-4b0f-a271-756d03f6ccce",
   "metadata": {
    "tags": []
   },
   "outputs": [],
   "source": [
    "import seaduck as sd\n",
    "import numpy as np\n",
    "import lmdb\n",
    "import dask.array as da\n",
    "\n",
    "import oceanspy as ospy\n",
    "from precalc.gen_interp import store_interpolator\n",
    "from precalc.grid_subsample import generate_subocedata"
   ]
  },
  {
   "cell_type": "code",
   "execution_count": null,
   "id": "3387dc39-c95e-4136-bfcb-925c0967dd37",
   "metadata": {
    "tags": []
   },
   "outputs": [],
   "source": [
    "# llc = ospy.open_oceandataset.from_catalog('ECCO')._ds\n",
    "llc = ospy.open_oceandataset.from_catalog(\"LLC4320\")._ds"
   ]
  },
  {
   "cell_type": "code",
   "execution_count": null,
   "id": "088192fb-aa43-4c64-8b2c-77b4183484ed",
   "metadata": {},
   "outputs": [],
   "source": [
    "oce = sd.OceData(llc)\n",
    "oce[\"dXG\"] = np.array(oce[\"dXG\"])\n",
    "oce[\"dYG\"] = np.array(oce[\"dYG\"])"
   ]
  },
  {
   "cell_type": "code",
   "execution_count": null,
   "id": "dcfed387-2193-4635-8076-c03225e2ab23",
   "metadata": {
    "tags": []
   },
   "outputs": [],
   "source": [
    "zooms = np.arange(7)\n",
    "\n",
    "lmdb_path = \"/home/idies/workspace/Temporary/wenrui/scratch/second_interpolator.lmdb\"\n",
    "env = lmdb.open(lmdb_path, readonly=False, lock=False, map_size=200000000000)"
   ]
  },
  {
   "cell_type": "code",
   "execution_count": null,
   "id": "30233c93-522b-47d7-a794-fe2f0cf62fe3",
   "metadata": {
    "tags": []
   },
   "outputs": [],
   "source": [
    "subocedata, unique_grain, inverse_grain = generate_subocedata(zooms, oce)"
   ]
  },
  {
   "cell_type": "code",
   "execution_count": null,
   "id": "2faac209-5868-4301-a66c-d11bc188b38d",
   "metadata": {
    "tags": []
   },
   "outputs": [],
   "source": [
    "# s = np.array(llc['SALT'][0,0])\n",
    "# uv = np.array(da.concatenate([llc.UVELMASS[0,0].data[np.newaxis],llc.VVELMASS[0,0].data[np.newaxis]],axis = 0))\n",
    "s = np.array(llc[\"S\"][0, 0])\n",
    "uv = np.array(\n",
    "    da.concatenate([llc.U[0, 0].data[np.newaxis], llc.V[0, 0].data[np.newaxis]], axis=0)\n",
    ")"
   ]
  },
  {
   "cell_type": "code",
   "execution_count": null,
   "id": "fdf1b550-f1b9-4191-a780-6951f4ec59de",
   "metadata": {
    "tags": []
   },
   "outputs": [],
   "source": [
    "store_interpolator(\n",
    "    env, zooms, subocedata, unique_grain, inverse_grain, exmp_vel=uv, exmp_scl=s\n",
    ")"
   ]
  }
 ],
 "metadata": {
  "kernelspec": {
   "display_name": "Oceanography",
   "language": "python",
   "name": "oceanography"
  },
  "language_info": {
   "codemirror_mode": {
    "name": "ipython",
    "version": 3
   },
   "file_extension": ".py",
   "mimetype": "text/x-python",
   "name": "python",
   "nbconvert_exporter": "python",
   "pygments_lexer": "ipython3",
   "version": "3.10.11"
  }
 },
 "nbformat": 4,
 "nbformat_minor": 5
}
